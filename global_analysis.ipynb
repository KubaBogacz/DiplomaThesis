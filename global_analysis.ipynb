{
 "cells": [
  {
   "cell_type": "code",
   "execution_count": 2,
   "metadata": {},
   "outputs": [
    {
     "name": "stdout",
     "output_type": "stream",
     "text": [
      "Importing the dtw module. When using in academic works please cite:\n",
      "  T. Giorgino. Computing and Visualizing Dynamic Time Warping Alignments in R: The dtw Package.\n",
      "  J. Stat. Soft., doi:10.18637/jss.v031.i07.\n",
      "\n"
     ]
    }
   ],
   "source": [
    "import polars as pl\n",
    "import numpy as np\n",
    "import os\n",
    "import matplotlib.pyplot as plt\n",
    "import emd\n",
    "from dtw import *\n",
    "from utils import *\n",
    "\n",
    "time = []\n",
    "fs = []\n",
    "hr = []\n",
    "mx = []\n",
    "\n",
    "# Recordings files paths\n",
    "path = os.getcwd() + r\"\\data_healthy\"\n",
    "file_paths = sorted([os.path.join(path, file) for file in os.listdir(path)], key=extract_recording_number)\n",
    "\n",
    "# Read data from the files\n",
    "for file_path in file_paths:\n",
    "    df = pl.read_csv(file_path, separator=\";\", decimal_comma=True)\n",
    "    t_hat, _ = convert_datetime_to_time(df[\"DateTime\"].to_numpy())\n",
    "    time.append(t_hat)\n",
    "    hr.append(df[\"hr\"].to_numpy())\n",
    "    if df[\"FVL\"].mean() > df[\"FVR\"].mean():\n",
    "        mx.append(df[\"mx_l\"].to_numpy())\n",
    "    else:\n",
    "        mx.append(df[\"mx_r\"].to_numpy())"
   ]
  },
  {
   "cell_type": "code",
   "execution_count": 3,
   "metadata": {},
   "outputs": [
    {
     "name": "stdout",
     "output_type": "stream",
     "text": [
      "DTW Distances: [32.59007338916259, 43.35723890233348, 83.70371223351452, 29.99836236457856, 29.464892557361274, 30.061725734072684, 31.791097429315016, 35.109785618710625, 32.68558866431215, 40.84897723948792, 49.84877722287814, 105.09345870492436, 34.99147050589447, 32.59877541659738, 61.65723490726405, 12.560307599003394, 14.575346929216435, 41.25216480238002, 14.925892278257592, 55.810604836870674, 53.36219730997616, 44.187854897154196, 50.437261450571235, 47.06365869891019, 37.96390594346855, 35.95919471018399, 36.671262340401704, 36.80628771645139, 35.13601832714768, 36.99927129562863, 42.249213093163895, 34.96062574921634, 17.560897291542055, 40.470349163367345]\n",
      "DTW Normalized Distances: [0.08531432824388113, 0.07714811192586028, 0.1453189448498516, 0.07352539795239843, 0.06490064439947417, 0.07368070032860952, 0.05998320269682079, 0.12106822627141595, 0.06408938953786696, 0.07141429587323063, 0.08335915923558218, 0.2101869174098487, 0.05662050243672244, 0.0665281130950967, 0.09694533790450321, 0.04651965777408665, 0.05479453732788134, 0.06175473772811381, 0.07855732778030312, 0.09209670765160177, 0.07940803171127404, 0.0657557364540985, 0.0720532306436732, 0.09644192356334055, 0.11574361568130656, 0.10157964607396608, 0.06867277591835524, 0.05787152156674748, 0.06654548925596152, 0.1022079317558802, 0.10888972446691726, 0.08964263012619575, 0.04573150336339077, 0.05589827232509302]\n",
      "DropDTW Distances: [56.406738656999295, 78.59854157931667, 102.17376694071868, 44.77705066337085, 55.066214513406685, 48.12154919060016, 63.430782652535406, 38.95044011851969, 64.87541699324841, 69.7500504427643, 88.02213484186039, 102.51323837347456, 55.976536228816215, 46.67020871180072, 101.73272789915109, 22.771093916192697, 21.976371845292984, 70.86300124738875, 20.27646694253665, 61.5482902474555, 91.36646006745116, 79.68021683226307, 79.8259798166957, 76.090074691794, 49.75404084113192, 52.59804513498635, 60.28610163754174, 67.24605442730595, 65.79973904683183, 51.737112119648906, 56.173888884930925, 45.275678895421365, 37.82449048171028, 56.873273613511444]\n",
      "DropDTW Normalized Distances: [0.14766161952094056, 0.13985505619095492, 0.17738501204985882, 0.1097476731945364, 0.1212912213951689, 0.11794497350637295, 0.11968072198591587, 0.1343118624776541, 0.1272066999867616, 0.12194064762721032, 0.14719420542117123, 0.20502647674694913, 0.09057691946410391, 0.09524532390163412, 0.15995711933828788, 0.08433738487478777, 0.08261793926801873, 0.10608233719668975, 0.10671824706598237, 0.10156483539184076, 0.1359619941479928, 0.1185717512384867, 0.11403711402385101, 0.15592228420449591, 0.15168914890589, 0.14858204840391626, 0.1128953214186175, 0.1057327899800408, 0.12462071789172695, 0.14292019922554947, 0.14477806413641992, 0.11609148434723426, 0.09850127729612052, 0.07855424532252962]\n"
     ]
    }
   ],
   "source": [
    "dtw_distances = []\n",
    "dtw_normalized_distances = []\n",
    "drop_dtw_distances = []\n",
    "drop_dtw_normalized_distances = []\n",
    "\n",
    "for record_number in range(len(mx)):\n",
    "    imf_mx = emd.sift.sift(mx[record_number])\n",
    "    n = imf_mx.shape[1]\n",
    "    imf_mx = imf_mx[:, n - 3] + imf_mx[:, n - 2] + imf_mx[:, n - 1]\n",
    "\n",
    "    imf_hr = emd.sift.sift(hr[record_number])\n",
    "    n = imf_hr.shape[1]\n",
    "    imf_hr = np.sum(imf_hr[:, 1:], axis=1)\n",
    "\n",
    "    imf_hr = (imf_hr - np.min(imf_hr)) / (np.max(imf_hr) - np.min(imf_hr))\n",
    "    imf_mx = (imf_mx - np.min(imf_mx)) / (np.max(imf_mx) - np.min(imf_mx))\n",
    "    \n",
    "    # DTW\n",
    "    alignment = dtw(imf_hr, imf_mx, keep_internals=False, distance_only=False)\n",
    "    dtw_distances.append(alignment.distance)\n",
    "    normalized_distance = alignment.distance / (len(imf_hr) + len(imf_mx))\n",
    "    dtw_normalized_distances.append(normalized_distance)\n",
    "\n",
    "    # DropDTW\n",
    "    zx_costs, x_drop_costs, z_drop_costs = compute_all_costs(\n",
    "        series1=imf_hr, \n",
    "        series2=imf_mx, \n",
    "        drop_cost_type=\"percentile\", \n",
    "        percentile=75\n",
    "    )\n",
    "\n",
    "    min_cost, matched_indices, dropped1, dropped2 = double_drop_dtw(\n",
    "        costs=zx_costs,\n",
    "        drop_costs1=x_drop_costs,\n",
    "        drop_costs2=z_drop_costs,\n",
    "        contiguous=True\n",
    "    )\n",
    "\n",
    "    drop_dtw_distances.append(min_cost)\n",
    "    normalized_drop_distance = min_cost / (len(imf_hr) + len(imf_mx))\n",
    "    drop_dtw_normalized_distances.append(normalized_drop_distance)\n",
    "\n",
    "print(\"DTW Distances:\", dtw_distances)\n",
    "print(\"DTW Normalized Distances:\", dtw_normalized_distances)\n",
    "print(\"DropDTW Distances:\", drop_dtw_distances)\n",
    "print(\"DropDTW Normalized Distances:\", drop_dtw_normalized_distances)"
   ]
  },
  {
   "cell_type": "code",
   "execution_count": 5,
   "metadata": {},
   "outputs": [],
   "source": [
    "import pandas as pd\n",
    "\n",
    "# Create a DataFrame with the distances\n",
    "distances_df = pd.DataFrame({\n",
    "    'DTW Distances': dtw_distances,\n",
    "    'DTW Normalized Distances': dtw_normalized_distances,\n",
    "    'DropDTW Distances': drop_dtw_distances,\n",
    "    'DropDTW Normalized Distances': drop_dtw_normalized_distances\n",
    "})\n",
    "\n",
    "# Save the DataFrame to a CSV file\n",
    "distances_df.to_csv(os.path.join(os.getcwd(), 'distances.csv'), index=False)"
   ]
  }
 ],
 "metadata": {
  "kernelspec": {
   "display_name": "venv",
   "language": "python",
   "name": "python3"
  },
  "language_info": {
   "codemirror_mode": {
    "name": "ipython",
    "version": 3
   },
   "file_extension": ".py",
   "mimetype": "text/x-python",
   "name": "python",
   "nbconvert_exporter": "python",
   "pygments_lexer": "ipython3",
   "version": "3.12.8"
  }
 },
 "nbformat": 4,
 "nbformat_minor": 2
}
