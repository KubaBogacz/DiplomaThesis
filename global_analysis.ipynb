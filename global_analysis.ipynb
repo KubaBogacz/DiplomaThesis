{
 "cells": [
  {
   "cell_type": "code",
   "execution_count": null,
   "metadata": {},
   "outputs": [],
   "source": [
    "import polars as pl\n",
    "import numpy as np\n",
    "import os\n",
    "import matplotlib.pyplot as plt\n",
    "import emd\n",
    "from dtw import *\n",
    "from utils import *\n",
    "# from dp.dp_utils import compute_all_costs\n",
    "\n",
    "time = []\n",
    "fs = []\n",
    "hr = []\n",
    "mx = []\n",
    "\n",
    "# Recordings files paths\n",
    "path = os.getcwd() + r\"\\data_healthy\"\n",
    "file_paths = sorted([os.path.join(path, file) for file in os.listdir(path)], key=extract_recording_number)\n",
    "\n",
    "# Read data from the files\n",
    "for file_path in file_paths:\n",
    "    df = pl.read_csv(file_path, separator=\";\", decimal_comma=True)\n",
    "    t_hat, _ = convert_datetime_to_time(df[\"DateTime\"].to_numpy())\n",
    "    time.append(t_hat)\n",
    "    hr.append(df[\"hr\"].to_numpy())\n",
    "    if df[\"FVL\"].mean() > df[\"FVR\"].mean():\n",
    "        mx.append(df[\"mx_l\"].to_numpy())\n",
    "    else:\n",
    "        mx.append(df[\"mx_r\"].to_numpy())"
   ]
  },
  {
   "cell_type": "code",
   "execution_count": null,
   "metadata": {},
   "outputs": [],
   "source": [
    "for record_number in range(len(mx)):\n",
    "    imf_mx = emd.sift.sift(mx[record_number])\n",
    "    n = imf_mx.shape[1]\n",
    "    imf_sum = imf_mx[:, n - 3] + imf_mx[:, n - 2] + imf_mx[:, n - 1]\n",
    "    alignment = dtw(imf_sum, hr[record_number], keep_internals=False, distance_only=False)\n",
    "    normalized_distance = alignment.distance / (len(hr[record_number]) + len(imf_mx))\n",
    "    "
   ]
  },
  {
   "cell_type": "code",
   "execution_count": null,
   "metadata": {},
   "outputs": [],
   "source": [
    "for file_number in range(len(mx)):\n",
    "    imf_hr = emd.sift.sift(hr[file_number])\n",
    "    # emd.plotting.plot_imfs(imf_hr, time_vect=time[file_number], xlabel=\"Time [s]\")\n",
    "    n = imf_hr.shape[1]\n",
    "    imf_hr = imf_hr[:, n - 3] + imf_hr[:, n - 2] + imf_hr[:, n - 1]"
   ]
  }
 ],
 "metadata": {
  "kernelspec": {
   "display_name": "venv",
   "language": "python",
   "name": "python3"
  },
  "language_info": {
   "codemirror_mode": {
    "name": "ipython",
    "version": 3
   },
   "file_extension": ".py",
   "mimetype": "text/x-python",
   "name": "python",
   "nbconvert_exporter": "python",
   "pygments_lexer": "ipython3",
   "version": "3.12.8"
  }
 },
 "nbformat": 4,
 "nbformat_minor": 2
}
