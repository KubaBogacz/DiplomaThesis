{
 "cells": [
  {
   "cell_type": "code",
   "execution_count": 3,
   "metadata": {},
   "outputs": [],
   "source": [
    "import polars as pl\n",
    "import numpy as np\n",
    "import os\n",
    "import matplotlib.pyplot as plt\n",
    "import emd\n",
    "from dtw import *\n",
    "from utils import *\n",
    "\n",
    "time = []\n",
    "fs = []\n",
    "hr = []\n",
    "mx = []\n",
    "\n",
    "# Recordings files paths\n",
    "path = os.getcwd() + r\"\\data_healthy\"\n",
    "file_paths = sorted([os.path.join(path, file) for file in os.listdir(path)], key=extract_recording_number)\n",
    "\n",
    "# Read data from the files\n",
    "for file_path in file_paths:\n",
    "    df = pl.read_csv(file_path, separator=\";\", decimal_comma=True)\n",
    "    t_hat, _ = convert_datetime_to_time(df[\"DateTime\"].to_numpy())\n",
    "    time.append(t_hat)\n",
    "    hr.append(df[\"hr\"].to_numpy())\n",
    "    if df[\"FVL\"].mean() > df[\"FVR\"].mean():\n",
    "        mx.append(df[\"mx_l\"].to_numpy())\n",
    "    else:\n",
    "        mx.append(df[\"mx_r\"].to_numpy())"
   ]
  },
  {
   "cell_type": "code",
   "execution_count": 4,
   "metadata": {},
   "outputs": [
    {
     "name": "stdout",
     "output_type": "stream",
     "text": [
      "DTW Distances: [31.514789344786376, 37.85929151709315, 90.1951290778901, 43.64662106135333, 27.18584108157392, 27.512710932348693, 31.951457300149823, 24.812040385207588, 35.99447106456082, 38.66905337001282, 50.929339670775335, 101.1494521719999, 42.379021504395865, 59.390039878161325, 60.89384208642561, 13.118137731539457, 21.533677518627137, 39.668641007302774, 15.173883673106058, 57.22080627210443, 47.43218527398428, 45.34764811688677, 50.03818387962093, 44.22849760956807, 30.740514392263613, 36.11517161192916, 37.901767665536184, 52.81985265541882, 37.38937316525793, 35.584309736314985, 39.118978480013475, 32.477419550829545, 13.358599229908469, 42.74538906768685]\n",
      "DTW Normalized Distances: [0.08249944854656119, 0.0673652873969629, 0.15658876576022587, 0.10697701240527777, 0.05988070722813638, 0.0674331150302664, 0.06028576849084872, 0.08555875994899169, 0.0705773942442369, 0.06760324015736506, 0.08516611985079488, 0.2022989043439998, 0.068574468453715, 0.12120416301665576, 0.09574503472708429, 0.04858569530199799, 0.0809536748820569, 0.059384193124704755, 0.07986254564792662, 0.09442377272624494, 0.07058360903866709, 0.0674816192215577, 0.0714831198280299, 0.09063216723272147, 0.09372108046421833, 0.10202025879076035, 0.07097709300662207, 0.08305008279153903, 0.07081320675238244, 0.09829919816661598, 0.10082210948457081, 0.08327543474571678, 0.03478801882788664, 0.05904059263492659]\n",
      "DropDTW Distances: [55.43677852632938, 60.324583950501605, 100.7483962619158, 63.3116181779491, 53.750429837553256, 47.2462332390804, 64.08469354936307, 36.51903770916983, 66.7736477329629, 67.34117939463377, 89.24403172862547, 102.81863558909993, 71.63129796907548, 68.16620263905855, 101.9749205736961, 24.061348862087854, 32.36739453672801, 74.62608256282012, 20.354244813161007, 61.58635212090799, 93.26827223915889, 79.09619814706102, 79.5727437479699, 75.02283295207859, 45.40656611746136, 52.733809439303506, 61.22237849373724, 98.83528904138213, 63.59447863463198, 49.973692764058, 51.98487016252438, 42.20094332484739, 32.726395167265316, 75.84766852191046]\n",
      "DropDTW Normalized Distances: [0.1451224568752078, 0.10733911734964699, 0.17491041017693715, 0.15517553474987525, 0.11839301726333316, 0.11579959127225588, 0.12091451613087371, 0.12592771623851665, 0.1309287210450253, 0.1177293346060031, 0.14923751125188206, 0.20563727117819985, 0.11590824914089883, 0.1391146992633848, 0.16033792543033978, 0.08911610689662168, 0.12168193434860153, 0.11171569245931155, 0.10712760427979477, 0.10162764376387456, 0.13879207178446262, 0.1177026758140789, 0.11367534821138556, 0.15373531342639055, 0.1384346527971383, 0.14896556338786301, 0.11464864886467648, 0.15540139786380838, 0.12044408832316664, 0.13804887503883426, 0.13398162413021747, 0.10820754698678817, 0.08522498741475343, 0.10476197309656142]\n"
     ]
    }
   ],
   "source": [
    "dtw_distances = []\n",
    "dtw_normalized_distances = []\n",
    "drop_dtw_distances = []\n",
    "drop_dtw_normalized_distances = []\n",
    "\n",
    "for record_number in range(len(mx)):\n",
    "    imf_mx = emd.sift.sift(mx[record_number])\n",
    "    n = imf_mx.shape[1]\n",
    "    imf_mx = imf_mx[:, n - 3] + imf_mx[:, n - 2] + imf_mx[:, n - 1]\n",
    "\n",
    "    imf_hr = emd.sift.sift(hr[record_number])\n",
    "    n = imf_hr.shape[1]\n",
    "    imf_hr = np.sum(imf_hr[:, 1:], axis=1)\n",
    "\n",
    "    imf_hr = (imf_hr - np.min(imf_hr)) / (np.max(imf_hr) - np.min(imf_hr))\n",
    "    imf_mx = (imf_mx - np.min(imf_mx)) / (np.max(imf_mx) - np.min(imf_mx))\n",
    "    \n",
    "    # DTW\n",
    "    alignment = dtw(imf_hr, imf_mx, keep_internals=False, distance_only=False)\n",
    "    dtw_distances.append(alignment.distance)\n",
    "    normalized_distance = alignment.distance / (len(imf_hr) + len(imf_mx))\n",
    "    dtw_normalized_distances.append(normalized_distance)\n",
    "\n",
    "    # DropDTW\n",
    "    zx_costs, x_drop_costs, z_drop_costs = compute_all_costs(\n",
    "        series1=imf_hr, \n",
    "        series2=imf_mx, \n",
    "        drop_cost_type=\"percentile\", \n",
    "        percentile=75\n",
    "    )\n",
    "\n",
    "    min_cost, matched_indices, dropped1, dropped2 = double_drop_dtw(\n",
    "        costs=zx_costs,\n",
    "        drop_costs1=x_drop_costs,\n",
    "        drop_costs2=z_drop_costs,\n",
    "        contiguous=True\n",
    "    )\n",
    "\n",
    "    drop_dtw_distances.append(min_cost)\n",
    "    normalized_drop_distance = min_cost / (len(imf_hr) + len(imf_mx))\n",
    "    drop_dtw_normalized_distances.append(normalized_drop_distance)\n",
    "\n",
    "print(\"DTW Distances:\", dtw_distances)\n",
    "print(\"DTW Normalized Distances:\", dtw_normalized_distances)\n",
    "print(\"DropDTW Distances:\", drop_dtw_distances)\n",
    "print(\"DropDTW Normalized Distances:\", drop_dtw_normalized_distances)"
   ]
  },
  {
   "cell_type": "code",
   "execution_count": 16,
   "metadata": {},
   "outputs": [
    {
     "name": "stdout",
     "output_type": "stream",
     "text": [
      "15658.137611852886\n",
      "19155.718817788576\n"
     ]
    },
    {
     "ename": "KeyboardInterrupt",
     "evalue": "",
     "output_type": "error",
     "traceback": [
      "\u001b[1;31m---------------------------------------------------------------------------\u001b[0m",
      "\u001b[1;31mKeyboardInterrupt\u001b[0m                         Traceback (most recent call last)",
      "Cell \u001b[1;32mIn[16], line 18\u001b[0m\n\u001b[0;32m     10\u001b[0m \u001b[38;5;66;03m# DropDTW\u001b[39;00m\n\u001b[0;32m     11\u001b[0m zx_costs, x_drop_costs, z_drop_costs \u001b[38;5;241m=\u001b[39m compute_all_costs(\n\u001b[0;32m     12\u001b[0m     series1\u001b[38;5;241m=\u001b[39mimf_sum_hr, \n\u001b[0;32m     13\u001b[0m     series2\u001b[38;5;241m=\u001b[39mimf_sum_mx, \n\u001b[0;32m     14\u001b[0m     drop_cost_type\u001b[38;5;241m=\u001b[39m\u001b[38;5;124m\"\u001b[39m\u001b[38;5;124mpercentile\u001b[39m\u001b[38;5;124m\"\u001b[39m, \n\u001b[0;32m     15\u001b[0m     percentile\u001b[38;5;241m=\u001b[39m\u001b[38;5;241m70\u001b[39m\n\u001b[0;32m     16\u001b[0m )\n\u001b[1;32m---> 18\u001b[0m min_cost, matched_indices, dropped1, dropped2 \u001b[38;5;241m=\u001b[39m \u001b[43mdouble_drop_dtw\u001b[49m\u001b[43m(\u001b[49m\n\u001b[0;32m     19\u001b[0m \u001b[43m    \u001b[49m\u001b[43mcosts\u001b[49m\u001b[38;5;241;43m=\u001b[39;49m\u001b[43mzx_costs\u001b[49m\u001b[43m,\u001b[49m\n\u001b[0;32m     20\u001b[0m \u001b[43m    \u001b[49m\u001b[43mdrop_costs1\u001b[49m\u001b[38;5;241;43m=\u001b[39;49m\u001b[43mx_drop_costs\u001b[49m\u001b[43m,\u001b[49m\n\u001b[0;32m     21\u001b[0m \u001b[43m    \u001b[49m\u001b[43mdrop_costs2\u001b[49m\u001b[38;5;241;43m=\u001b[39;49m\u001b[43mz_drop_costs\u001b[49m\u001b[43m,\u001b[49m\n\u001b[0;32m     22\u001b[0m \u001b[43m    \u001b[49m\u001b[43mcontiguous\u001b[49m\u001b[38;5;241;43m=\u001b[39;49m\u001b[38;5;28;43;01mTrue\u001b[39;49;00m\n\u001b[0;32m     23\u001b[0m \u001b[43m\u001b[49m\u001b[43m)\u001b[49m\n\u001b[0;32m     25\u001b[0m \u001b[38;5;28mprint\u001b[39m(min_cost)\n",
      "File \u001b[1;32me:\\_PracaDyplomowa\\Analysis\\utils.py:266\u001b[0m, in \u001b[0;36mdouble_drop_dtw\u001b[1;34m(costs, drop_costs1, drop_costs2, contiguous, return_labels)\u001b[0m\n\u001b[0;32m    261\u001b[0m drop1_costs \u001b[38;5;241m=\u001b[39m [\n\u001b[0;32m    262\u001b[0m     D[i\u001b[38;5;241m-\u001b[39m\u001b[38;5;241m1\u001b[39m, j, \u001b[38;5;241m0\u001b[39m] \u001b[38;5;241m+\u001b[39m drop_costs1[i\u001b[38;5;241m-\u001b[39m\u001b[38;5;241m1\u001b[39m],\n\u001b[0;32m    263\u001b[0m     D[i\u001b[38;5;241m-\u001b[39m\u001b[38;5;241m1\u001b[39m, j, \u001b[38;5;241m2\u001b[39m] \u001b[38;5;241m+\u001b[39m drop_costs1[i\u001b[38;5;241m-\u001b[39m\u001b[38;5;241m1\u001b[39m]\n\u001b[0;32m    264\u001b[0m ]\n\u001b[0;32m    265\u001b[0m D[i, j, \u001b[38;5;241m2\u001b[39m] \u001b[38;5;241m=\u001b[39m np\u001b[38;5;241m.\u001b[39mmin(drop1_costs)\n\u001b[1;32m--> 266\u001b[0m P[i, j, \u001b[38;5;241m2\u001b[39m] \u001b[38;5;241m=\u001b[39m [i\u001b[38;5;241m-\u001b[39m\u001b[38;5;241m1\u001b[39m, j, \u001b[43mnp\u001b[49m\u001b[38;5;241;43m.\u001b[39;49m\u001b[43margmin\u001b[49m\u001b[43m(\u001b[49m\u001b[43mdrop1_costs\u001b[49m\u001b[43m)\u001b[49m]\n\u001b[0;32m    268\u001b[0m \u001b[38;5;66;03m# State 3: Drop both\u001b[39;00m\n\u001b[0;32m    269\u001b[0m both_costs \u001b[38;5;241m=\u001b[39m [\n\u001b[0;32m    270\u001b[0m     D[i\u001b[38;5;241m-\u001b[39m\u001b[38;5;241m1\u001b[39m, j, \u001b[38;5;241m1\u001b[39m] \u001b[38;5;241m+\u001b[39m drop_costs1[i\u001b[38;5;241m-\u001b[39m\u001b[38;5;241m1\u001b[39m],\n\u001b[0;32m    271\u001b[0m     D[i, j\u001b[38;5;241m-\u001b[39m\u001b[38;5;241m1\u001b[39m, \u001b[38;5;241m2\u001b[39m] \u001b[38;5;241m+\u001b[39m drop_costs2[j\u001b[38;5;241m-\u001b[39m\u001b[38;5;241m1\u001b[39m],\n\u001b[0;32m    272\u001b[0m     D[i\u001b[38;5;241m-\u001b[39m\u001b[38;5;241m1\u001b[39m, j\u001b[38;5;241m-\u001b[39m\u001b[38;5;241m1\u001b[39m, \u001b[38;5;241m3\u001b[39m] \u001b[38;5;241m+\u001b[39m drop_costs1[i\u001b[38;5;241m-\u001b[39m\u001b[38;5;241m1\u001b[39m] \u001b[38;5;241m+\u001b[39m drop_costs2[j\u001b[38;5;241m-\u001b[39m\u001b[38;5;241m1\u001b[39m]\n\u001b[0;32m    273\u001b[0m ]\n",
      "File \u001b[1;32me:\\_PracaDyplomowa\\Analysis\\venv\\Lib\\site-packages\\numpy\\core\\fromnumeric.py:1325\u001b[0m, in \u001b[0;36margmin\u001b[1;34m(a, axis, out, keepdims)\u001b[0m\n\u001b[0;32m   1238\u001b[0m \u001b[38;5;250m\u001b[39m\u001b[38;5;124;03m\"\"\"\u001b[39;00m\n\u001b[0;32m   1239\u001b[0m \u001b[38;5;124;03mReturns the indices of the minimum values along an axis.\u001b[39;00m\n\u001b[0;32m   1240\u001b[0m \n\u001b[1;32m   (...)\u001b[0m\n\u001b[0;32m   1322\u001b[0m \u001b[38;5;124;03m(2, 1, 4)\u001b[39;00m\n\u001b[0;32m   1323\u001b[0m \u001b[38;5;124;03m\"\"\"\u001b[39;00m\n\u001b[0;32m   1324\u001b[0m kwds \u001b[38;5;241m=\u001b[39m {\u001b[38;5;124m'\u001b[39m\u001b[38;5;124mkeepdims\u001b[39m\u001b[38;5;124m'\u001b[39m: keepdims} \u001b[38;5;28;01mif\u001b[39;00m keepdims \u001b[38;5;129;01mis\u001b[39;00m \u001b[38;5;129;01mnot\u001b[39;00m np\u001b[38;5;241m.\u001b[39m_NoValue \u001b[38;5;28;01melse\u001b[39;00m {}\n\u001b[1;32m-> 1325\u001b[0m \u001b[38;5;28;01mreturn\u001b[39;00m \u001b[43m_wrapfunc\u001b[49m\u001b[43m(\u001b[49m\u001b[43ma\u001b[49m\u001b[43m,\u001b[49m\u001b[43m \u001b[49m\u001b[38;5;124;43m'\u001b[39;49m\u001b[38;5;124;43margmin\u001b[39;49m\u001b[38;5;124;43m'\u001b[39;49m\u001b[43m,\u001b[49m\u001b[43m \u001b[49m\u001b[43maxis\u001b[49m\u001b[38;5;241;43m=\u001b[39;49m\u001b[43maxis\u001b[49m\u001b[43m,\u001b[49m\u001b[43m \u001b[49m\u001b[43mout\u001b[49m\u001b[38;5;241;43m=\u001b[39;49m\u001b[43mout\u001b[49m\u001b[43m,\u001b[49m\u001b[43m \u001b[49m\u001b[38;5;241;43m*\u001b[39;49m\u001b[38;5;241;43m*\u001b[39;49m\u001b[43mkwds\u001b[49m\u001b[43m)\u001b[49m\n",
      "File \u001b[1;32me:\\_PracaDyplomowa\\Analysis\\venv\\Lib\\site-packages\\numpy\\core\\fromnumeric.py:56\u001b[0m, in \u001b[0;36m_wrapfunc\u001b[1;34m(obj, method, *args, **kwds)\u001b[0m\n\u001b[0;32m     54\u001b[0m bound \u001b[38;5;241m=\u001b[39m \u001b[38;5;28mgetattr\u001b[39m(obj, method, \u001b[38;5;28;01mNone\u001b[39;00m)\n\u001b[0;32m     55\u001b[0m \u001b[38;5;28;01mif\u001b[39;00m bound \u001b[38;5;129;01mis\u001b[39;00m \u001b[38;5;28;01mNone\u001b[39;00m:\n\u001b[1;32m---> 56\u001b[0m     \u001b[38;5;28;01mreturn\u001b[39;00m \u001b[43m_wrapit\u001b[49m\u001b[43m(\u001b[49m\u001b[43mobj\u001b[49m\u001b[43m,\u001b[49m\u001b[43m \u001b[49m\u001b[43mmethod\u001b[49m\u001b[43m,\u001b[49m\u001b[43m \u001b[49m\u001b[38;5;241;43m*\u001b[39;49m\u001b[43margs\u001b[49m\u001b[43m,\u001b[49m\u001b[43m \u001b[49m\u001b[38;5;241;43m*\u001b[39;49m\u001b[38;5;241;43m*\u001b[39;49m\u001b[43mkwds\u001b[49m\u001b[43m)\u001b[49m\n\u001b[0;32m     58\u001b[0m \u001b[38;5;28;01mtry\u001b[39;00m:\n\u001b[0;32m     59\u001b[0m     \u001b[38;5;28;01mreturn\u001b[39;00m bound(\u001b[38;5;241m*\u001b[39margs, \u001b[38;5;241m*\u001b[39m\u001b[38;5;241m*\u001b[39mkwds)\n",
      "File \u001b[1;32me:\\_PracaDyplomowa\\Analysis\\venv\\Lib\\site-packages\\numpy\\core\\fromnumeric.py:45\u001b[0m, in \u001b[0;36m_wrapit\u001b[1;34m(obj, method, *args, **kwds)\u001b[0m\n\u001b[0;32m     43\u001b[0m \u001b[38;5;28;01mexcept\u001b[39;00m \u001b[38;5;167;01mAttributeError\u001b[39;00m:\n\u001b[0;32m     44\u001b[0m     wrap \u001b[38;5;241m=\u001b[39m \u001b[38;5;28;01mNone\u001b[39;00m\n\u001b[1;32m---> 45\u001b[0m result \u001b[38;5;241m=\u001b[39m \u001b[38;5;28;43mgetattr\u001b[39;49m\u001b[43m(\u001b[49m\u001b[43masarray\u001b[49m\u001b[43m(\u001b[49m\u001b[43mobj\u001b[49m\u001b[43m)\u001b[49m\u001b[43m,\u001b[49m\u001b[43m \u001b[49m\u001b[43mmethod\u001b[49m\u001b[43m)\u001b[49m\u001b[43m(\u001b[49m\u001b[38;5;241;43m*\u001b[39;49m\u001b[43margs\u001b[49m\u001b[43m,\u001b[49m\u001b[43m \u001b[49m\u001b[38;5;241;43m*\u001b[39;49m\u001b[38;5;241;43m*\u001b[39;49m\u001b[43mkwds\u001b[49m\u001b[43m)\u001b[49m\n\u001b[0;32m     46\u001b[0m \u001b[38;5;28;01mif\u001b[39;00m wrap:\n\u001b[0;32m     47\u001b[0m     \u001b[38;5;28;01mif\u001b[39;00m \u001b[38;5;129;01mnot\u001b[39;00m \u001b[38;5;28misinstance\u001b[39m(result, mu\u001b[38;5;241m.\u001b[39mndarray):\n",
      "\u001b[1;31mKeyboardInterrupt\u001b[0m: "
     ]
    }
   ],
   "source": [
    "for record_number in range(5):\n",
    "    \n",
    "    \n",
    "    imf_mx = emd.sift.sift(mx[record_number])\n",
    "    n = imf_mx.shape[1]\n",
    "    imf_sum_mx = imf_mx[:, n - 3] + imf_mx[:, n - 2] + imf_mx[:, n - 1]\n",
    "\n",
    "    imf_hr = emd.sift.sift(hr[record_number])\n",
    "    n = imf_hr.shape[1]\n",
    "    imf_sum_hr = imf_hr[:, n - 3] + imf_hr[:, n - 2] + imf_hr[:, n - 1]\n",
    "\n",
    "    # Min-max normalize imf_sum_hr and imf_sum_mx\n",
    "    imf_sum_hr = (imf_sum_hr - np.min(imf_sum_hr)) / (np.max(imf_sum_hr) - np.min(imf_sum_hr))\n",
    "    imf_sum_mx = (imf_sum_mx - np.min(imf_sum_mx)) / (np.max(imf_sum_mx) - np.min(imf_sum_mx))\n",
    "    \n",
    "    # DropDTW\n",
    "    zx_costs, x_drop_costs, z_drop_costs = compute_all_costs(\n",
    "        series1=imf_sum_hr, \n",
    "        series2=imf_sum_mx, \n",
    "        drop_cost_type=\"percentile\", \n",
    "        percentile=70\n",
    "    )\n",
    "\n",
    "    min_cost, matched_indices, dropped1, dropped2 = double_drop_dtw(\n",
    "        costs=zx_costs,\n",
    "        drop_costs1=x_drop_costs,\n",
    "        drop_costs2=z_drop_costs,\n",
    "        contiguous=True\n",
    "    )\n",
    "\n",
    "    print(min_cost)\n",
    "\n"
   ]
  },
  {
   "cell_type": "code",
   "execution_count": 15,
   "metadata": {},
   "outputs": [],
   "source": [
    "import pandas as pd\n",
    "\n",
    "# Create a DataFrame with the distances\n",
    "distances_df = pd.DataFrame({\n",
    "    'DTW Distances': dtw_distances,\n",
    "    'DTW Normalized Distances': dtw_normalized_distances,\n",
    "    'DropDTW Distances': drop_dtw_distances,\n",
    "    'DropDTW Normalized Distances': drop_dtw_normalized_distances\n",
    "})\n",
    "\n",
    "# Save the DataFrame to a CSV file\n",
    "distances_path = r'E:\\_PracaDyplomowa\\Analysis'\n",
    "distances_df.to_csv(os.path.join(distances_path, 'distances.csv'), index=False)"
   ]
  }
 ],
 "metadata": {
  "kernelspec": {
   "display_name": "venv",
   "language": "python",
   "name": "python3"
  },
  "language_info": {
   "codemirror_mode": {
    "name": "ipython",
    "version": 3
   },
   "file_extension": ".py",
   "mimetype": "text/x-python",
   "name": "python",
   "nbconvert_exporter": "python",
   "pygments_lexer": "ipython3",
   "version": "3.12.8"
  }
 },
 "nbformat": 4,
 "nbformat_minor": 2
}
